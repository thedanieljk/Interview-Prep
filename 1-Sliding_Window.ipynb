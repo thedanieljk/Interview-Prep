{
  "nbformat": 4,
  "nbformat_minor": 0,
  "metadata": {
    "colab": {
      "name": "Interview_Prep-1.ipynb",
      "provenance": [],
      "collapsed_sections": [],
      "toc_visible": true,
      "authorship_tag": "ABX9TyM2Eut83jSJlv4SanwMVLnf"
    },
    "kernelspec": {
      "name": "python3",
      "display_name": "Python 3"
    },
    "language_info": {
      "name": "python"
    }
  },
  "cells": [
    {
      "cell_type": "markdown",
      "source": [
        "https://github.com/cl2333/Grokking-the-Coding-Interview-Patterns-for-Coding-Questions\n",
        "\n",
        "\n",
        "Pattern 1: Sliding Window\n",
        "\n",
        "\n",
        "* Maximum Sum Subarray of Size K (easy)\n",
        "* Smallest Subarray with a given sum (easy)\n",
        "* Longest Substring with K Distinct Characters (medium)\n",
        "* Fruits into Baskets (medium)\n",
        "* No-repeat Substring (hard) *\n",
        "* Longest Substring with Same Letters after Replacement (hard)\n",
        "* Longest Subarray with Ones after Replacement (hard) *\n",
        "* Problem Challenge 1 - Permutation in a String (hard) *\n",
        "* Problem Challenge 2 - String Anagrams (hard)\n",
        "* Problem Challenge 3 - Smallest Window containing Substring (hard) *\n",
        "* Problem Challenge 4 - Words Concatenation (hard)\n",
        "\n"
      ],
      "metadata": {
        "id": "7Tjezi1VxdI9"
      }
    },
    {
      "cell_type": "markdown",
      "source": [
        "a. Maximum Sum Subarray of Size K (easy)"
      ],
      "metadata": {
        "id": "Rf02pg-ryUiy"
      }
    },
    {
      "cell_type": "code",
      "execution_count": 17,
      "metadata": {
        "colab": {
          "base_uri": "https://localhost:8080/",
          "height": 105
        },
        "id": "ZnKL6ng3xG3i",
        "outputId": "a2192d7a-86bf-4616-eccd-e89fc238f74c"
      },
      "outputs": [
        {
          "output_type": "stream",
          "name": "stdout",
          "text": [
            "Maximum sum of a subarray of size K: 9\n",
            "Maximum sum of a subarray of size K: 7\n",
            "my Maximum sum of a subarray of size K: 9\n",
            "my Maximum sum of a subarray of size K: 7\n"
          ]
        },
        {
          "output_type": "execute_result",
          "data": {
            "text/plain": [
              "'\\nTime Complexity \\nThe time complexity of the above algorithm will be O(N).\\nSpace Complexity \\nThe algorithm runs in constant space O(1).\\n'"
            ],
            "application/vnd.google.colaboratory.intrinsic+json": {
              "type": "string"
            }
          },
          "metadata": {},
          "execution_count": 17
        }
      ],
      "source": [
        "'''\n",
        "Problem Statement #\n",
        "Given an array of positive numbers and a positive number ‘k’, find the maximum sum of any contiguous subarray of size ‘k’.\n",
        "Example 1:\n",
        "Input: [2, 1, 5, 1, 3, 2], k=3 \n",
        "Output: 9\n",
        "Explanation: Subarray with maximum sum is [5, 1, 3].\n",
        "Example 2:\n",
        "Input: [2, 3, 4, 1, 5], k=2 \n",
        "Output: 7\n",
        "Explanation: Subarray with maximum sum is [3, 4].\n",
        "'''\n",
        "\n",
        "\n",
        "#my solution\n",
        "def my_max_sub_array_of_size_k(k,arr):\n",
        "  max_sum, window_start, curr_sum = 0, 0, 0\n",
        "\n",
        "  for idx, num in enumerate(arr): #will loop thru array giving the index and each value at arr[index]\n",
        "    curr_sum += num #add current value to sum\n",
        "\n",
        "    if (idx >= k - 1): #if we have reached the correct size window, all future values will be correct window size\n",
        "      max_sum = max(max_sum, curr_sum)  #update max sum if current sum is bigger\n",
        "      curr_sum -= arr[window_start] #before shifting window, subtract the previous window start\n",
        "      window_start += 1 #shift the start of the window, so that the next iteration is the correct window size\n",
        "  return max_sum\n",
        "  \n",
        "\n",
        "#mycode\n",
        "def max_sub_array_of_size_k(k, arr):\n",
        "  # TODO: Write your code here\n",
        "  max_sum , window_start, window_sum = 0, 0, 0\n",
        "\n",
        "\n",
        "  for window_end in range(len(arr)):\n",
        "    window_sum += arr[window_end]  # add the next element\n",
        "    # slide the window, we don't need to slide if we've not hit the required window size of 'k'\n",
        "    if window_end >= k-1:\n",
        "      max_sum = max(max_sum, window_sum)\n",
        "      window_sum -= arr[window_start]  # subtract the element going out\n",
        "      window_start += 1  # slide the window ahead\n",
        "  return max_sum\n",
        "\n",
        "def main():\n",
        "  print(\"Maximum sum of a subarray of size K: \" + str(max_sub_array_of_size_k(3, [2, 1, 5, 1, 3, 2])))\n",
        "  print(\"Maximum sum of a subarray of size K: \" + str(max_sub_array_of_size_k(2, [2, 3, 4, 1, 5]))) \n",
        "  print(\"my Maximum sum of a subarray of size K: \" + str(my_max_sub_array_of_size_k(3, [2, 1, 5, 1, 3, 2])))\n",
        "  print(\"my Maximum sum of a subarray of size K: \" + str(my_max_sub_array_of_size_k(2, [2, 3, 4, 1, 5])))\n",
        "\n",
        "main()\n",
        "\n",
        "\n",
        "'''\n",
        "Time Complexity \n",
        "The time complexity of the above algorithm will be O(N).\n",
        "Space Complexity \n",
        "The algorithm runs in constant space O(1).\n",
        "'''"
      ]
    },
    {
      "cell_type": "markdown",
      "source": [
        "b. smallest subarray with a given sum"
      ],
      "metadata": {
        "id": "Sv-BXnDiGP1E"
      }
    },
    {
      "cell_type": "code",
      "source": [
        "'''\n",
        "Problem Statement \n",
        "Given an array of positive numbers and a positive number ‘S’, find the length of the smallest contiguous subarray whose sum is greater than or equal to ‘S’. Return 0, if no such subarray exists.\n",
        "Example 1:\n",
        "Input: [2, 1, 5, 2, 3, 2], S=7 \n",
        "Output: 2\n",
        "Explanation: The smallest subarray with a sum great than or equal to '7' is [5, 2].\n",
        "Example 2:\n",
        "Input: [2, 1, 5, 2, 8], S=7 \n",
        "Output: 1\n",
        "Explanation: The smallest subarray with a sum greater than or equal to '7' is [8].\n",
        "Example 3:\n",
        "Input: [3, 4, 1, 1, 6], S=8 \n",
        "Output: 3\n",
        "Explanation: Smallest subarrays with a sum greater than or equal to '8' are [3, 4, 1] or [1, 1, 6].\n",
        "'''\n",
        "\n",
        "import math\n",
        "\n",
        "#mycode\n",
        "import math\n",
        "def my_smallest_subarray_with_given_sum(s, arr):\n",
        "  min_length = 0\n",
        "\n",
        "return min_length\n",
        "\n",
        "\n",
        "#answer\n",
        "\n",
        "def smallest_subarray_with_given_sum(s, arr):\n",
        "  window_sum = 0\n",
        "  min_length = math.inf\n",
        "  window_start = 0\n",
        "\n",
        "  for window_end in range(0, len(arr)):\n",
        "    window_sum += arr[window_end]  # add the next element\n",
        "    # shrink the window as small as possible until the 'window_sum' is smaller than 's'\n",
        "    while window_sum >= s:\n",
        "      min_length = min(min_length, window_end - window_start + 1)\n",
        "      window_sum -= arr[window_start]\n",
        "      window_start += 1\n",
        "  if min_length == math.inf:\n",
        "    return 0\n",
        "  return min_length\n",
        "\n",
        "\n",
        "def main():\n",
        "  print(\"Smallest subarray length: \" + str(smallest_subarray_with_given_sum(7, [2, 1, 5, 2, 3, 2])))\n",
        "  print(\"Smallest subarray length: \" + str(smallest_subarray_with_given_sum(7, [2, 1, 5, 2, 8])))\n",
        "  print(\"Smallest subarray length: \" + str(smallest_subarray_with_given_sum(8, [3, 4, 1, 1, 6])))\n",
        "\n",
        "main()\n",
        "\n",
        "\n",
        "'''\n",
        "Time Complexity \n",
        "The time complexity of the above algorithm will be O(N). \n",
        "The outer for loop runs for all elements and the inner while loop processes each element only once, therefore the time complexity of the algorithm will be O(N+N) which is asymptotically equivalent to O(N).\n",
        "Space Complexity \n",
        "The algorithm runs in constant space O(1).\n",
        "'''"
      ],
      "metadata": {
        "id": "_VxsoedIGNks"
      },
      "execution_count": null,
      "outputs": []
    }
  ]
}